{
 "cells": [
  {
   "cell_type": "code",
   "execution_count": 4,
   "metadata": {},
   "outputs": [],
   "source": [
    "\n",
    "import pandas as pd\n",
    "import latentscope as ls\n",
    "# !pip install datasets\n",
    "from datasets import load_dataset"
   ]
  },
  {
   "cell_type": "code",
   "execution_count": 20,
   "metadata": {},
   "outputs": [
    {
     "data": {
      "application/vnd.jupyter.widget-view+json": {
       "model_id": "d3efa382f93342bd8fc4b3413608af93",
       "version_major": 2,
       "version_minor": 0
      },
      "text/plain": [
       "Resolving data files:   0%|          | 0/330 [00:00<?, ?it/s]"
      ]
     },
     "metadata": {},
     "output_type": "display_data"
    }
   ],
   "source": [
    "# https://huggingface.co/datasets/wikimedia/wit_base\n",
    "dataset = load_dataset(\"wikimedia/wit_base\", split='train', streaming=True)"
   ]
  },
  {
   "cell_type": "code",
   "execution_count": 21,
   "metadata": {},
   "outputs": [],
   "source": [
    "dataset = dataset.remove_columns('image')"
   ]
  },
  {
   "cell_type": "code",
   "execution_count": 22,
   "metadata": {},
   "outputs": [],
   "source": [
    "# takes about ~1 minute to download\n",
    "dataset_head = dataset.take(15000)\n",
    "subset = list(dataset_head)"
   ]
  },
  {
   "cell_type": "code",
   "execution_count": 23,
   "metadata": {},
   "outputs": [],
   "source": [
    "df = pd.DataFrame(subset)"
   ]
  },
  {
   "cell_type": "code",
   "execution_count": 24,
   "metadata": {},
   "outputs": [
    {
     "data": {
      "text/html": [
       "<div>\n",
       "<style scoped>\n",
       "    .dataframe tbody tr th:only-of-type {\n",
       "        vertical-align: middle;\n",
       "    }\n",
       "\n",
       "    .dataframe tbody tr th {\n",
       "        vertical-align: top;\n",
       "    }\n",
       "\n",
       "    .dataframe thead th {\n",
       "        text-align: right;\n",
       "    }\n",
       "</style>\n",
       "<table border=\"1\" class=\"dataframe\">\n",
       "  <thead>\n",
       "    <tr style=\"text-align: right;\">\n",
       "      <th></th>\n",
       "      <th>image_url</th>\n",
       "      <th>embedding</th>\n",
       "      <th>metadata_url</th>\n",
       "      <th>original_height</th>\n",
       "      <th>original_width</th>\n",
       "      <th>mime_type</th>\n",
       "      <th>caption_attribution_description</th>\n",
       "      <th>wit_features</th>\n",
       "    </tr>\n",
       "  </thead>\n",
       "  <tbody>\n",
       "    <tr>\n",
       "      <th>0</th>\n",
       "      <td>https://upload.wikimedia.org/wikipedia/commons...</td>\n",
       "      <td>[1.4784087, 2.8710432, 0.0, 0.51603067, 1.3256...</td>\n",
       "      <td>http://commons.wikimedia.org/wiki/File:Scolope...</td>\n",
       "      <td>3000.0</td>\n",
       "      <td>4000.0</td>\n",
       "      <td>image/jpeg</td>\n",
       "      <td>English: Puerto Rican Giant Centipede, Scolope...</td>\n",
       "      <td>{'language': ['ro', 'vi', 'sk', 'zh-TW', 'ar',...</td>\n",
       "    </tr>\n",
       "    <tr>\n",
       "      <th>1</th>\n",
       "      <td>https://upload.wikimedia.org/wikipedia/commons...</td>\n",
       "      <td>[4.219804, 7.780965, 1.8214827, 1.2291162, 0.0...</td>\n",
       "      <td>http://commons.wikimedia.org/wiki/File:Moulay-...</td>\n",
       "      <td>800.0</td>\n",
       "      <td>1200.0</td>\n",
       "      <td>image/jpeg</td>\n",
       "      <td>English: Moulay Ali Cherif Mausoleum in Rissan...</td>\n",
       "      <td>{'language': ['ar', 'fr', 'it', 'pt'], 'page_u...</td>\n",
       "    </tr>\n",
       "    <tr>\n",
       "      <th>2</th>\n",
       "      <td>https://upload.wikimedia.org/wikipedia/commons...</td>\n",
       "      <td>[3.2203984, 7.894166, 0.0, 3.9915848, 4.106125...</td>\n",
       "      <td>http://commons.wikimedia.org/wiki/File:Lord_Wa...</td>\n",
       "      <td>462.0</td>\n",
       "      <td>692.0</td>\n",
       "      <td>image/svg+xml</td>\n",
       "      <td>None</td>\n",
       "      <td>{'language': ['uk', 'fr', 'fr', 'iw', 'en', 'd...</td>\n",
       "    </tr>\n",
       "    <tr>\n",
       "      <th>3</th>\n",
       "      <td>https://upload.wikimedia.org/wikipedia/commons...</td>\n",
       "      <td>[15.76484, 1.4144201, 17.731287, 2.4145026, 1....</td>\n",
       "      <td>http://commons.wikimedia.org/wiki/File:Teucriu...</td>\n",
       "      <td>1704.0</td>\n",
       "      <td>2272.0</td>\n",
       "      <td>image/jpeg</td>\n",
       "      <td>English: Teucrium corymbosum, Marysville, Vict...</td>\n",
       "      <td>{'language': ['en', 'vi', 'vi', 'de', 'pt'], '...</td>\n",
       "    </tr>\n",
       "    <tr>\n",
       "      <th>4</th>\n",
       "      <td>https://upload.wikimedia.org/wikipedia/commons...</td>\n",
       "      <td>[3.790454, 9.945694, 0.31239522, 0.0, 0.856851...</td>\n",
       "      <td>http://commons.wikimedia.org/wiki/File:Tropica...</td>\n",
       "      <td>133.0</td>\n",
       "      <td>129.0</td>\n",
       "      <td>image/jpeg</td>\n",
       "      <td>Tropical Storm Fausto at high latitude in the ...</td>\n",
       "      <td>{'language': ['es'], 'page_url': ['https://es....</td>\n",
       "    </tr>\n",
       "  </tbody>\n",
       "</table>\n",
       "</div>"
      ],
      "text/plain": [
       "                                           image_url  \\\n",
       "0  https://upload.wikimedia.org/wikipedia/commons...   \n",
       "1  https://upload.wikimedia.org/wikipedia/commons...   \n",
       "2  https://upload.wikimedia.org/wikipedia/commons...   \n",
       "3  https://upload.wikimedia.org/wikipedia/commons...   \n",
       "4  https://upload.wikimedia.org/wikipedia/commons...   \n",
       "\n",
       "                                           embedding  \\\n",
       "0  [1.4784087, 2.8710432, 0.0, 0.51603067, 1.3256...   \n",
       "1  [4.219804, 7.780965, 1.8214827, 1.2291162, 0.0...   \n",
       "2  [3.2203984, 7.894166, 0.0, 3.9915848, 4.106125...   \n",
       "3  [15.76484, 1.4144201, 17.731287, 2.4145026, 1....   \n",
       "4  [3.790454, 9.945694, 0.31239522, 0.0, 0.856851...   \n",
       "\n",
       "                                        metadata_url  original_height  \\\n",
       "0  http://commons.wikimedia.org/wiki/File:Scolope...           3000.0   \n",
       "1  http://commons.wikimedia.org/wiki/File:Moulay-...            800.0   \n",
       "2  http://commons.wikimedia.org/wiki/File:Lord_Wa...            462.0   \n",
       "3  http://commons.wikimedia.org/wiki/File:Teucriu...           1704.0   \n",
       "4  http://commons.wikimedia.org/wiki/File:Tropica...            133.0   \n",
       "\n",
       "   original_width      mime_type  \\\n",
       "0          4000.0     image/jpeg   \n",
       "1          1200.0     image/jpeg   \n",
       "2           692.0  image/svg+xml   \n",
       "3          2272.0     image/jpeg   \n",
       "4           129.0     image/jpeg   \n",
       "\n",
       "                     caption_attribution_description  \\\n",
       "0  English: Puerto Rican Giant Centipede, Scolope...   \n",
       "1  English: Moulay Ali Cherif Mausoleum in Rissan...   \n",
       "2                                               None   \n",
       "3  English: Teucrium corymbosum, Marysville, Vict...   \n",
       "4  Tropical Storm Fausto at high latitude in the ...   \n",
       "\n",
       "                                        wit_features  \n",
       "0  {'language': ['ro', 'vi', 'sk', 'zh-TW', 'ar',...  \n",
       "1  {'language': ['ar', 'fr', 'it', 'pt'], 'page_u...  \n",
       "2  {'language': ['uk', 'fr', 'fr', 'iw', 'en', 'd...  \n",
       "3  {'language': ['en', 'vi', 'vi', 'de', 'pt'], '...  \n",
       "4  {'language': ['es'], 'page_url': ['https://es....  "
      ]
     },
     "execution_count": 24,
     "metadata": {},
     "output_type": "execute_result"
    }
   ],
   "source": [
    "# classes: sadness (0), joy (1), love (2), anger (3), fear (4), surprise (5)\n",
    "df.head()"
   ]
  },
  {
   "cell_type": "code",
   "execution_count": 25,
   "metadata": {},
   "outputs": [
    {
     "name": "stdout",
     "output_type": "stream",
     "text": [
      "Initialized env with data directory at /Users/enjalot/latent-scope-data\n"
     ]
    }
   ],
   "source": [
    "ls.init(\"~/latent-scope-data\")"
   ]
  },
  {
   "cell_type": "code",
   "execution_count": 26,
   "metadata": {},
   "outputs": [
    {
     "name": "stdout",
     "output_type": "stream",
     "text": [
      "Loading environment variables from: /Users/enjalot/code/latent-scope/notebooks/.env\n",
      "DATA DIR /Users/enjalot/latent-scope-data\n",
      "DIRECTORY /Users/enjalot/latent-scope-data/wit_base\n",
      "                                           image_url  \\\n",
      "0  https://upload.wikimedia.org/wikipedia/commons...   \n",
      "1  https://upload.wikimedia.org/wikipedia/commons...   \n",
      "2  https://upload.wikimedia.org/wikipedia/commons...   \n",
      "3  https://upload.wikimedia.org/wikipedia/commons...   \n",
      "4  https://upload.wikimedia.org/wikipedia/commons...   \n",
      "\n",
      "                                           embedding  \\\n",
      "0  [1.4784087, 2.8710432, 0.0, 0.51603067, 1.3256...   \n",
      "1  [4.219804, 7.780965, 1.8214827, 1.2291162, 0.0...   \n",
      "2  [3.2203984, 7.894166, 0.0, 3.9915848, 4.106125...   \n",
      "3  [15.76484, 1.4144201, 17.731287, 2.4145026, 1....   \n",
      "4  [3.790454, 9.945694, 0.31239522, 0.0, 0.856851...   \n",
      "\n",
      "                                        metadata_url  original_height  \\\n",
      "0  http://commons.wikimedia.org/wiki/File:Scolope...           3000.0   \n",
      "1  http://commons.wikimedia.org/wiki/File:Moulay-...            800.0   \n",
      "2  http://commons.wikimedia.org/wiki/File:Lord_Wa...            462.0   \n",
      "3  http://commons.wikimedia.org/wiki/File:Teucriu...           1704.0   \n",
      "4  http://commons.wikimedia.org/wiki/File:Tropica...            133.0   \n",
      "\n",
      "   original_width      mime_type  \\\n",
      "0          4000.0     image/jpeg   \n",
      "1          1200.0     image/jpeg   \n",
      "2           692.0  image/svg+xml   \n",
      "3          2272.0     image/jpeg   \n",
      "4           129.0     image/jpeg   \n",
      "\n",
      "                     caption_attribution_description  \\\n",
      "0  English: Puerto Rican Giant Centipede, Scolope...   \n",
      "1  English: Moulay Ali Cherif Mausoleum in Rissan...   \n",
      "2                                               None   \n",
      "3  English: Teucrium corymbosum, Marysville, Vict...   \n",
      "4  Tropical Storm Fausto at high latitude in the ...   \n",
      "\n",
      "                                        wit_features  \n",
      "0  {'language': ['ro', 'vi', 'sk', 'zh-TW', 'ar',...  \n",
      "1  {'language': ['ar', 'fr', 'it', 'pt'], 'page_u...  \n",
      "2  {'language': ['uk', 'fr', 'fr', 'iw', 'en', 'd...  \n",
      "3  {'language': ['en', 'vi', 'vi', 'de', 'pt'], '...  \n",
      "4  {'language': ['es'], 'page_url': ['https://es....  \n",
      "                                               image_url  \\\n",
      "14995  https://upload.wikimedia.org/wikipedia/commons...   \n",
      "14996  https://upload.wikimedia.org/wikipedia/commons...   \n",
      "14997  https://upload.wikimedia.org/wikipedia/commons...   \n",
      "14998  https://upload.wikimedia.org/wikipedia/commons...   \n",
      "14999  http://upload.wikimedia.org/wikipedia/commons/...   \n",
      "\n",
      "                                               embedding  \\\n",
      "14995  [5.2011766, 2.9628627, 1.0381004, 5.609347, 6....   \n",
      "14996  [0.12095678, 3.0676131, 10.201617, 0.0, 0.9763...   \n",
      "14997  [1.8216954, 7.449361, 7.487361, 0.0, 0.0, 0.76...   \n",
      "14998  [3.2206683, 3.1415734, 2.794359, 5.957762, 0.7...   \n",
      "14999  [3.2096415, 4.4423156, 2.8230848, 1.6492629, 1...   \n",
      "\n",
      "                                            metadata_url  original_height  \\\n",
      "14995  http://commons.wikimedia.org/wiki/File:Youth_C...            683.0   \n",
      "14996  http://commons.wikimedia.org/wiki/File:Zyklisc...            640.0   \n",
      "14997  http://commons.wikimedia.org/wiki/File:2020%E5...            555.0   \n",
      "14998  http://commons.wikimedia.org/wiki/File:E.Lanse...            800.0   \n",
      "14999  http://commons.wikimedia.org/wiki/File:Junikae...            600.0   \n",
      "\n",
      "       original_width   mime_type  \\\n",
      "14995          1024.0  image/jpeg   \n",
      "14996           480.0   image/gif   \n",
      "14997           685.0   image/png   \n",
      "14998           622.0  image/jpeg   \n",
      "14999           800.0  image/jpeg   \n",
      "\n",
      "                         caption_attribution_description  \\\n",
      "14995                                         youth code   \n",
      "14996  \"Deutsch: Grafische Darstellung des zyklischen...   \n",
      "14997                     中文（繁體）‎: 2020年高雄市第四選舉區立法委員選舉得票   \n",
      "14998           Б.М.Кустодиев «Портрет Е.Е.Лансере» 1913   \n",
      "14999                                               None   \n",
      "\n",
      "                                            wit_features  \n",
      "14995  {'language': ['en'], 'page_url': ['https://en....  \n",
      "14996  {'language': ['de'], 'page_url': ['https://de....  \n",
      "14997  {'language': ['zh', 'zh-TW'], 'page_url': ['ht...  \n",
      "14998  {'language': ['ja', 'fr', 'fr', 'ru'], 'page_u...  \n",
      "14999  {'language': ['de'], 'page_url': ['https://de....  \n",
      "Index(['image_url', 'embedding', 'metadata_url', 'original_height',\n",
      "       'original_width', 'mime_type', 'caption_attribution_description',\n",
      "       'wit_features'],\n",
      "      dtype='object')\n",
      "wrote /Users/enjalot/latent-scope-data/wit_base/input.parquet\n",
      "list array of numbers embedding\n"
     ]
    }
   ],
   "source": [
    "ls.ingest(\"wit_base\", df, \"caption_attribution_description\")"
   ]
  },
  {
   "cell_type": "code",
   "execution_count": null,
   "metadata": {},
   "outputs": [],
   "source": [
    "ls.serve()"
   ]
  }
 ],
 "metadata": {
  "kernelspec": {
   "display_name": "testenv",
   "language": "python",
   "name": "python3"
  },
  "language_info": {
   "codemirror_mode": {
    "name": "ipython",
    "version": 3
   },
   "file_extension": ".py",
   "mimetype": "text/x-python",
   "name": "python",
   "nbconvert_exporter": "python",
   "pygments_lexer": "ipython3",
   "version": "3.11.0"
  }
 },
 "nbformat": 4,
 "nbformat_minor": 2
}
